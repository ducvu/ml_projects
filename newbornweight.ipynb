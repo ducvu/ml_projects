{
  "nbformat": 4,
  "nbformat_minor": 0,
  "metadata": {
    "colab": {
      "name": "newbornweight.ipynb",
      "provenance": [],
      "collapsed_sections": [],
      "authorship_tag": "ABX9TyPc7Cbxjt31vQDren+xwnNS",
      "include_colab_link": true
    },
    "kernelspec": {
      "name": "python3",
      "display_name": "Python 3"
    }
  },
  "cells": [
    {
      "cell_type": "markdown",
      "metadata": {
        "id": "view-in-github",
        "colab_type": "text"
      },
      "source": [
        "<a href=\"https://colab.research.google.com/github/ducvu/ml_projects/blob/master/newbornweight.ipynb\" target=\"_parent\"><img src=\"https://colab.research.google.com/assets/colab-badge.svg\" alt=\"Open In Colab\"/></a>"
      ]
    },
    {
      "cell_type": "code",
      "metadata": {
        "id": "bCOxJPKK6_5F"
      },
      "source": [
        "import pandas as pd\n",
        "from matplotlib import pyplot\n",
        "from sklearn.model_selection import train_test_split\n",
        "from sklearn.model_selection import KFold\n",
        "from sklearn.model_selection import cross_val_score\n",
        "from sklearn.metrics import classification_report\n",
        "from sklearn.metrics import confusion_matrix\n",
        "from sklearn.metrics import accuracy_score\n",
        "from sklearn.linear_model import LogisticRegression\n",
        "from sklearn.tree import DecisionTreeClassifier\n",
        "from sklearn.neighbors import KNeighborsClassifier\n",
        "from sklearn.discriminant_analysis import LinearDiscriminantAnalysis\n",
        "from sklearn.naive_bayes import GaussianNB\n",
        "from sklearn.svm import SVC\n",
        "\n",
        "filename = '/content/data_all_update.xlsx'\n",
        "df = pd.read_excel(filename)"
      ],
      "execution_count": 151,
      "outputs": []
    },
    {
      "cell_type": "code",
      "metadata": {
        "id": "a5Nw_YkF8Y4m",
        "outputId": "3168f3f3-5af5-4808-c165-e138cebdb530",
        "colab": {
          "base_uri": "https://localhost:8080/",
          "height": 958
        }
      },
      "source": [
        "print('-------------------------------------')\n",
        "print('Columns : ',df.columns)\n",
        "\n",
        "print('-------------------------------------')\n",
        "print(\"NB null values = \",df.isnull().sum().max())\n",
        "\n",
        "print('-------------------------------------')\n",
        "print('Head : ', df.head(5))\n",
        "\n",
        "print('-------------------------------------')\n",
        "print( df.info())\n",
        "\n",
        "print('-------------------------------------')\n",
        "print(df.describe())\n",
        "print('-------------------------------------')"
      ],
      "execution_count": 157,
      "outputs": [
        {
          "output_type": "stream",
          "text": [
            "-------------------------------------\n",
            "Columns :  Index(['năm sinh', 'Cân nặng', 'Chiều cao', 'BMI', 'Tuần thai', 'BC', 'CHBC',\n",
            "       'Hct', 'Hb', 'MCV', 'MCH', 'MCHC', 'Mao mạch', 'BPD', 'AC', 'FL',\n",
            "       'Sexe', 'Weight'],\n",
            "      dtype='object')\n",
            "-------------------------------------\n",
            "NB null values =  351\n",
            "-------------------------------------\n",
            "Head :     năm sinh  Cân nặng  Chiều cao    BMI  ...     AC    FL    Sexe  Weight\n",
            "0      1982      63.0       1.50  28.00  ...  350.0  74.0    Male    3600\n",
            "1      1999      46.0       1.59  28.90  ...    NaN   NaN  Female     350\n",
            "2      2001      45.0       1.53  19.00  ...    NaN   NaN    Male     800\n",
            "3      1998      47.0       1.45  22.35  ...    NaN   NaN    Male     900\n",
            "4      1992      45.0       1.45  21.40  ...  241.0  49.0  Female    1200\n",
            "\n",
            "[5 rows x 18 columns]\n",
            "-------------------------------------\n",
            "<class 'pandas.core.frame.DataFrame'>\n",
            "RangeIndex: 2517 entries, 0 to 2516\n",
            "Data columns (total 18 columns):\n",
            " #   Column     Non-Null Count  Dtype  \n",
            "---  ------     --------------  -----  \n",
            " 0   năm sinh   2517 non-null   int64  \n",
            " 1   Cân nặng   2517 non-null   float64\n",
            " 2   Chiều cao  2517 non-null   float64\n",
            " 3   BMI        2304 non-null   float64\n",
            " 4   Tuần thai  2516 non-null   float64\n",
            " 5   BC         2516 non-null   object \n",
            " 6   CHBC       2516 non-null   float64\n",
            " 7   Hct        2516 non-null   float64\n",
            " 8   Hb         2516 non-null   object \n",
            " 9   MCV        2516 non-null   float64\n",
            " 10  MCH        2516 non-null   float64\n",
            " 11  MCHC       2515 non-null   object \n",
            " 12  Mao mạch   2460 non-null   float64\n",
            " 13  BPD        2267 non-null   float64\n",
            " 14  AC         2247 non-null   float64\n",
            " 15  FL         2166 non-null   float64\n",
            " 16  Sexe       2517 non-null   object \n",
            " 17  Weight     2517 non-null   int64  \n",
            "dtypes: float64(12), int64(2), object(4)\n",
            "memory usage: 354.1+ KB\n",
            "None\n",
            "-------------------------------------\n",
            "           năm sinh     Cân nặng  ...           FL       Weight\n",
            "count  2.517000e+03  2517.000000  ...  2166.000000  2517.000000\n",
            "mean   9.814167e+03    63.062098  ...   148.144044  3194.729837\n",
            "std    3.926341e+05     9.081218  ...   492.803800   449.265129\n",
            "min    0.000000e+00     7.000000  ...     6.000000    35.000000\n",
            "25%    1.986000e+03    57.000000  ...    69.000000  3000.000000\n",
            "50%    1.990000e+03    62.000000  ...    70.000000  3200.000000\n",
            "75%    1.994000e+03    68.000000  ...    72.000000  3500.000000\n",
            "max    1.970033e+07   109.000000  ...  4000.000000  4700.000000\n",
            "\n",
            "[8 rows x 14 columns]\n",
            "-------------------------------------\n"
          ],
          "name": "stdout"
        }
      ]
    },
    {
      "cell_type": "code",
      "metadata": {
        "id": "TCtwby9q5MPD"
      },
      "source": [
        "df[\"BC\"].replace({\"8..12\": \"8.12\"}, inplace=True)\n",
        "df[\"Hb\"].replace({\".36.7\": \"36.7\"}, inplace=True)\n",
        "df[\"Hb\"].replace({\".36.5\": \"36.5\"}, inplace=True)\n",
        "df[\"MCHC\"].replace({\".35.9\": \"35.9\"}, inplace=True)"
      ],
      "execution_count": 152,
      "outputs": []
    },
    {
      "cell_type": "code",
      "metadata": {
        "id": "mB3-K3bJyT0H",
        "outputId": "7b3a6996-6848-427d-daee-418e453acee7",
        "colab": {
          "base_uri": "https://localhost:8080/",
          "height": 252
        }
      },
      "source": [
        "# select all numerical cols and fill missing values by mean of column\n",
        "#df[\"BC\"] = df[\"BC\"].astype('float64')\n",
        "#df[\"Hb\"] = df[\"Hb\"].astype('float64')\n",
        "#df[\"MCHC\"] = df[\"MCHC\"].astype('float64')\n",
        "df_num = df.select_dtypes(include=['float64','int64']).copy()\n",
        "df_num.head()\n",
        "df_num = df_num.fillna(df_num.mean())\n",
        "print(df_num.head())\n",
        "\n",
        "df_num['Sexe'] = df['Sexe']\n",
        "\n",
        "# select all categorial cols and fill missing values by \"MISSING\" \n",
        "df_obj = df.select_dtypes(include=['object']).copy()\n",
        "print(df_obj.head())\n"
      ],
      "execution_count": 153,
      "outputs": [
        {
          "output_type": "stream",
          "text": [
            "   năm sinh  Cân nặng  Chiều cao  ...          AC          FL  Weight\n",
            "0      1982      63.0       1.50  ...  350.000000   74.000000    3600\n",
            "1      1999      46.0       1.59  ...  317.080258  148.144044     350\n",
            "2      2001      45.0       1.53  ...  317.080258  148.144044     800\n",
            "3      1998      47.0       1.45  ...  317.080258  148.144044     900\n",
            "4      1992      45.0       1.45  ...  241.000000   49.000000    1200\n",
            "\n",
            "[5 rows x 14 columns]\n",
            "     BC    Hb  MCHC    Sexe\n",
            "0  4.36  84.6  34.1    Male\n",
            "1  6.78  37.4  34.6  Female\n",
            "2  14.8    37  34.8    Male\n",
            "3  12.8  32.8  33.2    Male\n",
            "4   6.6   9.6  31.5  Female\n"
          ],
          "name": "stdout"
        }
      ]
    },
    {
      "cell_type": "code",
      "metadata": {
        "id": "K7dFRiKn1J17",
        "outputId": "3c4d46a0-3e79-45c6-8913-41aef5164a3c",
        "colab": {
          "base_uri": "https://localhost:8080/",
          "height": 487
        }
      },
      "source": [
        "df_fin = pd.get_dummies(df_num, columns=[\"Sexe\"])\n",
        "print(df_fin.head())\n",
        "print(df_fin.dtypes)\n",
        "print(df_fin[df_fin.isnull().any(axis=1)])\n",
        "#df_fin.dropna()"
      ],
      "execution_count": 154,
      "outputs": [
        {
          "output_type": "stream",
          "text": [
            "   năm sinh  Cân nặng  Chiều cao  ...  Weight  Sexe_Female  Sexe_Male\n",
            "0      1982      63.0       1.50  ...    3600            0          1\n",
            "1      1999      46.0       1.59  ...     350            1          0\n",
            "2      2001      45.0       1.53  ...     800            0          1\n",
            "3      1998      47.0       1.45  ...     900            0          1\n",
            "4      1992      45.0       1.45  ...    1200            1          0\n",
            "\n",
            "[5 rows x 16 columns]\n",
            "năm sinh         int64\n",
            "Cân nặng       float64\n",
            "Chiều cao      float64\n",
            "BMI            float64\n",
            "Tuần thai      float64\n",
            "CHBC           float64\n",
            "Hct            float64\n",
            "MCV            float64\n",
            "MCH            float64\n",
            "Mao mạch       float64\n",
            "BPD            float64\n",
            "AC             float64\n",
            "FL             float64\n",
            "Weight           int64\n",
            "Sexe_Female      uint8\n",
            "Sexe_Male        uint8\n",
            "dtype: object\n",
            "Empty DataFrame\n",
            "Columns: [năm sinh, Cân nặng, Chiều cao, BMI, Tuần thai, CHBC, Hct, MCV, MCH, Mao mạch, BPD, AC, FL, Weight, Sexe_Female, Sexe_Male]\n",
            "Index: []\n"
          ],
          "name": "stdout"
        }
      ]
    },
    {
      "cell_type": "code",
      "metadata": {
        "id": "i7GIwZny6G5F",
        "outputId": "173c40b3-c1d3-4b59-bb07-fccac31b80e0",
        "colab": {
          "base_uri": "https://localhost:8080/",
          "height": 481
        }
      },
      "source": [
        "print(df_fin.dtypes)\n",
        "df_fin.head()"
      ],
      "execution_count": 155,
      "outputs": [
        {
          "output_type": "stream",
          "text": [
            "năm sinh         int64\n",
            "Cân nặng       float64\n",
            "Chiều cao      float64\n",
            "BMI            float64\n",
            "Tuần thai      float64\n",
            "CHBC           float64\n",
            "Hct            float64\n",
            "MCV            float64\n",
            "MCH            float64\n",
            "Mao mạch       float64\n",
            "BPD            float64\n",
            "AC             float64\n",
            "FL             float64\n",
            "Weight           int64\n",
            "Sexe_Female      uint8\n",
            "Sexe_Male        uint8\n",
            "dtype: object\n"
          ],
          "name": "stdout"
        },
        {
          "output_type": "execute_result",
          "data": {
            "text/html": [
              "<div>\n",
              "<style scoped>\n",
              "    .dataframe tbody tr th:only-of-type {\n",
              "        vertical-align: middle;\n",
              "    }\n",
              "\n",
              "    .dataframe tbody tr th {\n",
              "        vertical-align: top;\n",
              "    }\n",
              "\n",
              "    .dataframe thead th {\n",
              "        text-align: right;\n",
              "    }\n",
              "</style>\n",
              "<table border=\"1\" class=\"dataframe\">\n",
              "  <thead>\n",
              "    <tr style=\"text-align: right;\">\n",
              "      <th></th>\n",
              "      <th>năm sinh</th>\n",
              "      <th>Cân nặng</th>\n",
              "      <th>Chiều cao</th>\n",
              "      <th>BMI</th>\n",
              "      <th>Tuần thai</th>\n",
              "      <th>CHBC</th>\n",
              "      <th>Hct</th>\n",
              "      <th>MCV</th>\n",
              "      <th>MCH</th>\n",
              "      <th>Mao mạch</th>\n",
              "      <th>BPD</th>\n",
              "      <th>AC</th>\n",
              "      <th>FL</th>\n",
              "      <th>Weight</th>\n",
              "      <th>Sexe_Female</th>\n",
              "      <th>Sexe_Male</th>\n",
              "    </tr>\n",
              "  </thead>\n",
              "  <tbody>\n",
              "    <tr>\n",
              "      <th>0</th>\n",
              "      <td>1982</td>\n",
              "      <td>63.0</td>\n",
              "      <td>1.50</td>\n",
              "      <td>28.00</td>\n",
              "      <td>11.4</td>\n",
              "      <td>12.60</td>\n",
              "      <td>36.9</td>\n",
              "      <td>28.8</td>\n",
              "      <td>34.1</td>\n",
              "      <td>100.0</td>\n",
              "      <td>92.000000</td>\n",
              "      <td>350.000000</td>\n",
              "      <td>74.000000</td>\n",
              "      <td>3600</td>\n",
              "      <td>0</td>\n",
              "      <td>1</td>\n",
              "    </tr>\n",
              "    <tr>\n",
              "      <th>1</th>\n",
              "      <td>1999</td>\n",
              "      <td>46.0</td>\n",
              "      <td>1.59</td>\n",
              "      <td>28.90</td>\n",
              "      <td>24.0</td>\n",
              "      <td>4.61</td>\n",
              "      <td>12.9</td>\n",
              "      <td>81.2</td>\n",
              "      <td>28.1</td>\n",
              "      <td>75.0</td>\n",
              "      <td>106.981032</td>\n",
              "      <td>317.080258</td>\n",
              "      <td>148.144044</td>\n",
              "      <td>350</td>\n",
              "      <td>1</td>\n",
              "      <td>0</td>\n",
              "    </tr>\n",
              "    <tr>\n",
              "      <th>2</th>\n",
              "      <td>2001</td>\n",
              "      <td>45.0</td>\n",
              "      <td>1.53</td>\n",
              "      <td>19.00</td>\n",
              "      <td>25.0</td>\n",
              "      <td>4.45</td>\n",
              "      <td>12.9</td>\n",
              "      <td>83.1</td>\n",
              "      <td>28.9</td>\n",
              "      <td>71.0</td>\n",
              "      <td>106.981032</td>\n",
              "      <td>317.080258</td>\n",
              "      <td>148.144044</td>\n",
              "      <td>800</td>\n",
              "      <td>0</td>\n",
              "      <td>1</td>\n",
              "    </tr>\n",
              "    <tr>\n",
              "      <th>3</th>\n",
              "      <td>1998</td>\n",
              "      <td>47.0</td>\n",
              "      <td>1.45</td>\n",
              "      <td>22.35</td>\n",
              "      <td>26.0</td>\n",
              "      <td>3.62</td>\n",
              "      <td>10.9</td>\n",
              "      <td>90.4</td>\n",
              "      <td>30.0</td>\n",
              "      <td>85.0</td>\n",
              "      <td>106.981032</td>\n",
              "      <td>317.080258</td>\n",
              "      <td>148.144044</td>\n",
              "      <td>900</td>\n",
              "      <td>0</td>\n",
              "      <td>1</td>\n",
              "    </tr>\n",
              "    <tr>\n",
              "      <th>4</th>\n",
              "      <td>1992</td>\n",
              "      <td>45.0</td>\n",
              "      <td>1.45</td>\n",
              "      <td>21.40</td>\n",
              "      <td>26.0</td>\n",
              "      <td>4.17</td>\n",
              "      <td>30.3</td>\n",
              "      <td>72.8</td>\n",
              "      <td>23.0</td>\n",
              "      <td>86.0</td>\n",
              "      <td>70.000000</td>\n",
              "      <td>241.000000</td>\n",
              "      <td>49.000000</td>\n",
              "      <td>1200</td>\n",
              "      <td>1</td>\n",
              "      <td>0</td>\n",
              "    </tr>\n",
              "  </tbody>\n",
              "</table>\n",
              "</div>"
            ],
            "text/plain": [
              "   năm sinh  Cân nặng  Chiều cao  ...  Weight  Sexe_Female  Sexe_Male\n",
              "0      1982      63.0       1.50  ...    3600            0          1\n",
              "1      1999      46.0       1.59  ...     350            1          0\n",
              "2      2001      45.0       1.53  ...     800            0          1\n",
              "3      1998      47.0       1.45  ...     900            0          1\n",
              "4      1992      45.0       1.45  ...    1200            1          0\n",
              "\n",
              "[5 rows x 16 columns]"
            ]
          },
          "metadata": {
            "tags": []
          },
          "execution_count": 155
        }
      ]
    },
    {
      "cell_type": "code",
      "metadata": {
        "id": "m62eY3Yv6wuw"
      },
      "source": [
        "# Scale all numeric column \n",
        "import numpy as np\n",
        "from sklearn.preprocessing import MinMaxScaler\n",
        "\n",
        "num_cols = df_fin.columns[df_fin.dtypes.apply(lambda c: np.issubdtype(c, np.number))]\n",
        "scaler = MinMaxScaler()\n",
        "df_fin_scaled = df_fin\n",
        "scaler.fit_transform(df_fin_scaled[num_cols])\n",
        "col_one_list = df_fin['năm sinh'].tolist()\n",
        "col_one_list"
      ],
      "execution_count": null,
      "outputs": []
    },
    {
      "cell_type": "markdown",
      "metadata": {
        "id": "gKUYWjPO_Yw8"
      },
      "source": [
        "Move target column to the end of data frame"
      ]
    },
    {
      "cell_type": "code",
      "metadata": {
        "id": "DGd3avaZ-VFl",
        "outputId": "95579992-3c41-4e6c-a82a-5f48f2e588bd",
        "colab": {
          "base_uri": "https://localhost:8080/",
          "height": 470
        }
      },
      "source": [
        "x = df_fin_scaled.pop('Weight') # remove column b and store it in df1\n",
        "df_fin_scaled['Weight']=x\n",
        "print( df_fin_scaled.info())"
      ],
      "execution_count": 134,
      "outputs": [
        {
          "output_type": "stream",
          "text": [
            "<class 'pandas.core.frame.DataFrame'>\n",
            "RangeIndex: 2517 entries, 0 to 2516\n",
            "Data columns (total 19 columns):\n",
            " #   Column       Non-Null Count  Dtype  \n",
            "---  ------       --------------  -----  \n",
            " 0   năm sinh     2517 non-null   float64\n",
            " 1   Cân nặng     2517 non-null   float64\n",
            " 2   Chiều cao    2517 non-null   float64\n",
            " 3   BMI          2517 non-null   float64\n",
            " 4   Tuần thai    2517 non-null   float64\n",
            " 5   BC           2517 non-null   float64\n",
            " 6   CHBC         2517 non-null   float64\n",
            " 7   Hct          2517 non-null   float64\n",
            " 8   Hb           2517 non-null   float64\n",
            " 9   MCV          2517 non-null   float64\n",
            " 10  MCH          2517 non-null   float64\n",
            " 11  MCHC         2517 non-null   float64\n",
            " 12  Mao mạch     2517 non-null   float64\n",
            " 13  BPD          2517 non-null   float64\n",
            " 14  AC           2517 non-null   float64\n",
            " 15  FL           2517 non-null   float64\n",
            " 16  Sexe_Female  2517 non-null   float64\n",
            " 17  Sexe_Male    2517 non-null   float64\n",
            " 18  Weight       2517 non-null   float64\n",
            "dtypes: float64(19)\n",
            "memory usage: 373.7 KB\n",
            "None\n"
          ],
          "name": "stdout"
        }
      ]
    },
    {
      "cell_type": "markdown",
      "metadata": {
        "id": "wcCBiu4P9xZi"
      },
      "source": [
        "Split test and train dataset"
      ]
    },
    {
      "cell_type": "code",
      "metadata": {
        "id": "g8P-WRHx9zIV"
      },
      "source": [
        "array = df_fin_scaled.values\n",
        "X = array[:,0:17]\n",
        "Y = array[:,18]\n",
        "validation_size = 0.20\n",
        "seed = 7\n",
        "X_train, X_validation, Y_train, Y_validation = train_test_split(X, Y, test_size=validation_size, random_state=seed)"
      ],
      "execution_count": 135,
      "outputs": []
    },
    {
      "cell_type": "markdown",
      "metadata": {
        "id": "5Td4l4fp_y8R"
      },
      "source": [
        "Build models"
      ]
    },
    {
      "cell_type": "code",
      "metadata": {
        "id": "yxOhgEYn_2H-",
        "outputId": "023d5158-8b04-44e5-e083-b6476eb7c119",
        "colab": {
          "base_uri": "https://localhost:8080/",
          "height": 101
        }
      },
      "source": [
        "from sklearn.linear_model import Lasso,Ridge,ElasticNet\n",
        "from sklearn.tree import DecisionTreeRegressor\n",
        "from sklearn.svm import SVR\n",
        "\n",
        "\n",
        "num_folds = 10\n",
        "kfold = KFold(n_splits=10, shuffle=True, random_state=7)\n",
        "\n",
        "models = []\n",
        "models.append(('Ridge regression', Ridge()))\n",
        "models.append(('Lasso regression', Lasso()))\n",
        "models.append(('ElasticNet', ElasticNet()))\n",
        "models.append(('DecisionTreeRegressor', DecisionTreeRegressor()))\n",
        "models.append(('SVR', SVR()))\n",
        "\n",
        "scoring = 'neg_mean_squared_error'\n",
        "# evaluate each model in turn\n",
        "results = []\n",
        "names = []\n",
        "for name, model in models:\n",
        "    kfold = KFold(n_splits=10, shuffle=True, random_state=seed)\n",
        "    cv_results = cross_val_score(model, X_train, Y_train, cv=kfold, scoring=scoring)\n",
        "    results.append(cv_results)\n",
        "    names.append(name)\n",
        "    msg = \"%s: %f (%f)\" % (name, cv_results.mean(), cv_results.std())\n",
        "    print(msg)"
      ],
      "execution_count": 121,
      "outputs": [
        {
          "output_type": "stream",
          "text": [
            "Ridge regression: -0.005311 (0.001154)\n",
            "Lasso regression: -0.009163 (0.001697)\n",
            "ElasticNet: -0.009163 (0.001697)\n",
            "DecisionTreeRegressor: -0.010302 (0.001738)\n",
            "SVR: -0.005168 (0.001083)\n"
          ],
          "name": "stdout"
        }
      ]
    },
    {
      "cell_type": "markdown",
      "metadata": {
        "id": "-NVUbdZtDli9"
      },
      "source": [
        "Support vector machine regression is the best model on Traing set."
      ]
    },
    {
      "cell_type": "code",
      "metadata": {
        "id": "eScjuGkKDlAi",
        "outputId": "e80191f8-613c-4db0-9c13-bf045f4e9ed4",
        "colab": {
          "base_uri": "https://localhost:8080/",
          "height": 402
        }
      },
      "source": [
        "model = SVR()\n",
        "model.fit(X_train, Y_train)\n",
        "predictions = model.predict(X_validation)\n",
        "\n",
        "scaler = MinMaxScaler()\n",
        "x = df_fin[\"Weight\"].values\n",
        "scaler.fit_transform(x.reshape(-1, 1))\n",
        "Y_validation_inv = scaler.inverse_transform(Y_validation.reshape(1, -1))[0,:].tolist()\n",
        "Y_predictions_inv = scaler.inverse_transform(predictions.reshape(1, -1))[0,:].tolist()\n",
        "res = pd.DataFrame(list(zip(Y_validation_inv, Y_predictions_inv)), columns =['Y_validation', 'predictions']) \n",
        "\n",
        "res\n"
      ],
      "execution_count": 182,
      "outputs": [
        {
          "output_type": "execute_result",
          "data": {
            "text/html": [
              "<div>\n",
              "<style scoped>\n",
              "    .dataframe tbody tr th:only-of-type {\n",
              "        vertical-align: middle;\n",
              "    }\n",
              "\n",
              "    .dataframe tbody tr th {\n",
              "        vertical-align: top;\n",
              "    }\n",
              "\n",
              "    .dataframe thead th {\n",
              "        text-align: right;\n",
              "    }\n",
              "</style>\n",
              "<table border=\"1\" class=\"dataframe\">\n",
              "  <thead>\n",
              "    <tr style=\"text-align: right;\">\n",
              "      <th></th>\n",
              "      <th>Y_validation</th>\n",
              "      <th>predictions</th>\n",
              "    </tr>\n",
              "  </thead>\n",
              "  <tbody>\n",
              "    <tr>\n",
              "      <th>0</th>\n",
              "      <td>3200.0</td>\n",
              "      <td>3319.440453</td>\n",
              "    </tr>\n",
              "    <tr>\n",
              "      <th>1</th>\n",
              "      <td>2600.0</td>\n",
              "      <td>2306.730148</td>\n",
              "    </tr>\n",
              "    <tr>\n",
              "      <th>2</th>\n",
              "      <td>2900.0</td>\n",
              "      <td>2920.718586</td>\n",
              "    </tr>\n",
              "    <tr>\n",
              "      <th>3</th>\n",
              "      <td>2900.0</td>\n",
              "      <td>3183.866354</td>\n",
              "    </tr>\n",
              "    <tr>\n",
              "      <th>4</th>\n",
              "      <td>3700.0</td>\n",
              "      <td>3265.377829</td>\n",
              "    </tr>\n",
              "    <tr>\n",
              "      <th>...</th>\n",
              "      <td>...</td>\n",
              "      <td>...</td>\n",
              "    </tr>\n",
              "    <tr>\n",
              "      <th>499</th>\n",
              "      <td>3500.0</td>\n",
              "      <td>3291.938447</td>\n",
              "    </tr>\n",
              "    <tr>\n",
              "      <th>500</th>\n",
              "      <td>2100.0</td>\n",
              "      <td>2743.498773</td>\n",
              "    </tr>\n",
              "    <tr>\n",
              "      <th>501</th>\n",
              "      <td>2900.0</td>\n",
              "      <td>2813.069680</td>\n",
              "    </tr>\n",
              "    <tr>\n",
              "      <th>502</th>\n",
              "      <td>3500.0</td>\n",
              "      <td>3226.847267</td>\n",
              "    </tr>\n",
              "    <tr>\n",
              "      <th>503</th>\n",
              "      <td>3800.0</td>\n",
              "      <td>3569.308820</td>\n",
              "    </tr>\n",
              "  </tbody>\n",
              "</table>\n",
              "<p>504 rows × 2 columns</p>\n",
              "</div>"
            ],
            "text/plain": [
              "     Y_validation  predictions\n",
              "0          3200.0  3319.440453\n",
              "1          2600.0  2306.730148\n",
              "2          2900.0  2920.718586\n",
              "3          2900.0  3183.866354\n",
              "4          3700.0  3265.377829\n",
              "..            ...          ...\n",
              "499        3500.0  3291.938447\n",
              "500        2100.0  2743.498773\n",
              "501        2900.0  2813.069680\n",
              "502        3500.0  3226.847267\n",
              "503        3800.0  3569.308820\n",
              "\n",
              "[504 rows x 2 columns]"
            ]
          },
          "metadata": {
            "tags": []
          },
          "execution_count": 182
        }
      ]
    },
    {
      "cell_type": "code",
      "metadata": {
        "id": "I0OdpP8WVCLj",
        "outputId": "3753fc8d-10b1-4949-b08c-9ea48d54487f",
        "colab": {
          "base_uri": "https://localhost:8080/",
          "height": 402
        }
      },
      "source": [
        "model = SVR()\n",
        "model.fit(X_train, Y_train)\n",
        "predictions = model.predict(X_train)\n",
        "\n",
        "scaler = MinMaxScaler()\n",
        "x = df_fin[\"Weight\"].values\n",
        "scaler.fit_transform(x.reshape(-1, 1))\n",
        "Y_validation_inv = scaler.inverse_transform(Y_train.reshape(1, -1))[0,:].tolist()\n",
        "Y_predictions_inv = scaler.inverse_transform(predictions.reshape(1, -1))[0,:].tolist()\n",
        "res = pd.DataFrame(list(zip(Y_validation_inv, Y_predictions_inv)), columns =['Y_validation', 'predictions']) \n",
        "\n",
        "res"
      ],
      "execution_count": 188,
      "outputs": [
        {
          "output_type": "execute_result",
          "data": {
            "text/html": [
              "<div>\n",
              "<style scoped>\n",
              "    .dataframe tbody tr th:only-of-type {\n",
              "        vertical-align: middle;\n",
              "    }\n",
              "\n",
              "    .dataframe tbody tr th {\n",
              "        vertical-align: top;\n",
              "    }\n",
              "\n",
              "    .dataframe thead th {\n",
              "        text-align: right;\n",
              "    }\n",
              "</style>\n",
              "<table border=\"1\" class=\"dataframe\">\n",
              "  <thead>\n",
              "    <tr style=\"text-align: right;\">\n",
              "      <th></th>\n",
              "      <th>Y_validation</th>\n",
              "      <th>predictions</th>\n",
              "    </tr>\n",
              "  </thead>\n",
              "  <tbody>\n",
              "    <tr>\n",
              "      <th>0</th>\n",
              "      <td>3700.0</td>\n",
              "      <td>3533.748487</td>\n",
              "    </tr>\n",
              "    <tr>\n",
              "      <th>1</th>\n",
              "      <td>2600.0</td>\n",
              "      <td>2773.481207</td>\n",
              "    </tr>\n",
              "    <tr>\n",
              "      <th>2</th>\n",
              "      <td>3600.0</td>\n",
              "      <td>3465.284793</td>\n",
              "    </tr>\n",
              "    <tr>\n",
              "      <th>3</th>\n",
              "      <td>3000.0</td>\n",
              "      <td>2640.810633</td>\n",
              "    </tr>\n",
              "    <tr>\n",
              "      <th>4</th>\n",
              "      <td>2200.0</td>\n",
              "      <td>3201.594924</td>\n",
              "    </tr>\n",
              "    <tr>\n",
              "      <th>...</th>\n",
              "      <td>...</td>\n",
              "      <td>...</td>\n",
              "    </tr>\n",
              "    <tr>\n",
              "      <th>2008</th>\n",
              "      <td>3000.0</td>\n",
              "      <td>3159.678176</td>\n",
              "    </tr>\n",
              "    <tr>\n",
              "      <th>2009</th>\n",
              "      <td>3700.0</td>\n",
              "      <td>3348.246824</td>\n",
              "    </tr>\n",
              "    <tr>\n",
              "      <th>2010</th>\n",
              "      <td>3300.0</td>\n",
              "      <td>3283.585549</td>\n",
              "    </tr>\n",
              "    <tr>\n",
              "      <th>2011</th>\n",
              "      <td>3700.0</td>\n",
              "      <td>3090.233104</td>\n",
              "    </tr>\n",
              "    <tr>\n",
              "      <th>2012</th>\n",
              "      <td>3800.0</td>\n",
              "      <td>3072.005116</td>\n",
              "    </tr>\n",
              "  </tbody>\n",
              "</table>\n",
              "<p>2013 rows × 2 columns</p>\n",
              "</div>"
            ],
            "text/plain": [
              "      Y_validation  predictions\n",
              "0           3700.0  3533.748487\n",
              "1           2600.0  2773.481207\n",
              "2           3600.0  3465.284793\n",
              "3           3000.0  2640.810633\n",
              "4           2200.0  3201.594924\n",
              "...            ...          ...\n",
              "2008        3000.0  3159.678176\n",
              "2009        3700.0  3348.246824\n",
              "2010        3300.0  3283.585549\n",
              "2011        3700.0  3090.233104\n",
              "2012        3800.0  3072.005116\n",
              "\n",
              "[2013 rows x 2 columns]"
            ]
          },
          "metadata": {
            "tags": []
          },
          "execution_count": 188
        }
      ]
    },
    {
      "cell_type": "code",
      "metadata": {
        "id": "S3Y4EKCGSVjP",
        "outputId": "f2e89a84-b903-4a1e-f2a5-c995d1a1657f",
        "colab": {
          "base_uri": "https://localhost:8080/",
          "height": 34
        }
      },
      "source": [
        "from sklearn.metrics import mean_squared_error\n",
        "np.sqrt(mean_squared_error(Y_validation_inv,Y_predictions_inv) )\n"
      ],
      "execution_count": 189,
      "outputs": [
        {
          "output_type": "execute_result",
          "data": {
            "text/plain": [
              "320.5817305783175"
            ]
          },
          "metadata": {
            "tags": []
          },
          "execution_count": 189
        }
      ]
    }
  ]
}