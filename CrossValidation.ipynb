{
  "nbformat": 4,
  "nbformat_minor": 0,
  "metadata": {
    "colab": {
      "name": "CrossValidation.ipynb",
      "provenance": [],
      "collapsed_sections": [],
      "authorship_tag": "ABX9TyOZtFX2biVzpChs8Qp+6nHZ",
      "include_colab_link": true
    },
    "kernelspec": {
      "name": "python3",
      "display_name": "Python 3"
    }
  },
  "cells": [
    {
      "cell_type": "markdown",
      "metadata": {
        "id": "view-in-github",
        "colab_type": "text"
      },
      "source": [
        "<a href=\"https://colab.research.google.com/github/ducvu/ml_projects/blob/master/CrossValidation.ipynb\" target=\"_parent\"><img src=\"https://colab.research.google.com/assets/colab-badge.svg\" alt=\"Open In Colab\"/></a>"
      ]
    },
    {
      "cell_type": "code",
      "metadata": {
        "id": "kkDUpZRmE_FJ"
      },
      "source": [
        "import pandas as pd\n",
        "from matplotlib import pyplot as plt\n",
        "from sklearn.model_selection import train_test_split\n",
        "from sklearn.model_selection import KFold\n",
        "from sklearn.model_selection import cross_val_score\n",
        "from sklearn.metrics import classification_report\n",
        "from sklearn.metrics import confusion_matrix\n",
        "from sklearn.metrics import accuracy_score\n",
        "from sklearn.linear_model import LogisticRegression\n",
        "from sklearn.tree import DecisionTreeClassifier\n",
        "from sklearn.neighbors import KNeighborsClassifier\n",
        "from xgboost import XGBClassifier\n",
        "from sklearn.discriminant_analysis import LinearDiscriminantAnalysis\n",
        "from sklearn.naive_bayes import GaussianNB\n",
        "from sklearn.svm import SVC\n",
        "import numpy as np\n",
        "import math\n",
        "\n",
        "from keras.models import Sequential\n",
        "from keras.layers import BatchNormalization,Dropout,Dense,Flatten,Conv1D\n",
        "from tensorflow.keras.optimizers import Adam"
      ],
      "execution_count": 1,
      "outputs": []
    },
    {
      "cell_type": "markdown",
      "metadata": {
        "id": "0Nvf5TOlJrY2"
      },
      "source": [
        "# Read dataset"
      ]
    },
    {
      "cell_type": "code",
      "metadata": {
        "id": "ajGwDqG8Eq2z"
      },
      "source": [
        "df_train_input = pd.read_csv('/content/traininginputs.csv')\n",
        "df_train_output = pd.read_csv('/content/trainingoutput.csv')\n",
        "\n",
        "df_train = pd.merge(df_train_input, df_train_output, on='PROC_TRACEINFO', how='left')\n",
        "df_train['OP100_Capuchon_insertion_mesure'] = df_train['OP100_Capuchon_insertion_mesure'].fillna(0)\n",
        "df_train_input['OP100_Capuchon_insertion_mesure'] = df_train_input['OP100_Capuchon_insertion_mesure'].fillna(0)\n",
        "\n",
        "# drop ID column\n",
        "df_train = df_train.drop('PROC_TRACEINFO', axis=1)\n",
        "df_train_output = df_train_output.drop('PROC_TRACEINFO', axis=1)"
      ],
      "execution_count": 35,
      "outputs": []
    },
    {
      "cell_type": "code",
      "metadata": {
        "id": "MNDlyj51FJDk"
      },
      "source": [
        "kfold = KFold(3, True, 1)"
      ],
      "execution_count": 4,
      "outputs": []
    },
    {
      "cell_type": "code",
      "metadata": {
        "id": "-qriPO9yFF0i",
        "outputId": "a4755291-1841-445a-9d84-7b937c2b619e",
        "colab": {
          "base_uri": "https://localhost:8080/",
          "height": 88
        }
      },
      "source": [
        "for train, test in kfold.split(df_train):\n",
        "  print('train: %s, test: %s' % (train, test))"
      ],
      "execution_count": 9,
      "outputs": [
        {
          "output_type": "stream",
          "text": [
            "train: [    1     3     4 ... 34512 34513 34514], test: [    0     2     8 ... 34502 34505 34509]\n",
            "train: [    0     1     2 ... 34509 34513 34514], test: [    3     4     5 ... 34510 34511 34512]\n",
            "train: [    0     2     3 ... 34510 34511 34512], test: [    1     9    10 ... 34507 34513 34514]\n"
          ],
          "name": "stdout"
        }
      ]
    },
    {
      "cell_type": "code",
      "metadata": {
        "id": "y1vq27r4F2-8",
        "outputId": "378bb36c-a394-4862-ea17-9b4c0563ab4e",
        "colab": {
          "base_uri": "https://localhost:8080/",
          "height": 102
        }
      },
      "source": [
        "kfold = KFold(n_splits=5, shuffle=True)\n",
        "X = df_train_input.values\n",
        "y = df_train_output.values\n",
        "\n",
        "for train_ix, test_ix in kfold.split(X):\n",
        "\t# select rows\n",
        "\ttrain_X, test_X = X[train_ix], X[test_ix]\n",
        "\ttrain_y, test_y = y[train_ix], y[test_ix]\n",
        "\t# summarize train and test composition\n",
        "\ttrain_0, train_1 = len(train_y[train_y==0]), len(train_y[train_y==1])\n",
        "\ttest_0, test_1 = len(test_y[test_y==0]), len(test_y[test_y==1])\n",
        "\tprint('>Train: 0=%d, 1=%d, %f, Test: 0=%d, 1=%d %f' % (train_0, train_1, train_1/train_0*100, test_0, test_1, test_1/test_0*100))"
      ],
      "execution_count": 30,
      "outputs": [
        {
          "output_type": "stream",
          "text": [
            ">Train: 0=27353, 1=259, 0.946880, Test: 0=6857, 1=46 0.670847\n",
            ">Train: 0=27373, 1=239, 0.873123, Test: 0=6837, 1=66 0.965336\n",
            ">Train: 0=27370, 1=242, 0.884180, Test: 0=6840, 1=63 0.921053\n",
            ">Train: 0=27373, 1=239, 0.873123, Test: 0=6837, 1=66 0.965336\n",
            ">Train: 0=27371, 1=241, 0.880494, Test: 0=6839, 1=64 0.935809\n"
          ],
          "name": "stdout"
        }
      ]
    },
    {
      "cell_type": "code",
      "metadata": {
        "id": "1eVDdXfGHTGI",
        "outputId": "fb557ee2-1019-457d-e5e3-018bd0cddcdf",
        "colab": {
          "base_uri": "https://localhost:8080/",
          "height": 102
        }
      },
      "source": [
        "from sklearn.model_selection import StratifiedKFold\n",
        "\n",
        "kfold = StratifiedKFold(n_splits=5, shuffle=True)\n",
        "X = df_train_input.values\n",
        "y = df_train_output.values\n",
        "\n",
        "# Note that providing y is sufficient to generate the splits and \n",
        "# hence np.zeros(n_samples) may be used as a placeholder for X instead of actual training data. \n",
        "# Stratification is done based on the y labels.\n",
        "\n",
        "for train_ix, test_ix in kfold.split(X, y):\n",
        "\t# select rows\n",
        "\ttrain_X, test_X = X[train_ix], X[test_ix]\n",
        "\ttrain_y, test_y = y[train_ix], y[test_ix]\n",
        "\t# summarize train and test composition\n",
        "\ttrain_0, train_1 = len(train_y[train_y==0]), len(train_y[train_y==1])\n",
        "\ttest_0, test_1 = len(test_y[test_y==0]), len(test_y[test_y==1])\n",
        "\tprint('>Train: 0=%d, 1=%d, %f, Test: 0=%d, 1=%d %f' % (train_0, train_1, train_1/train_0*100, test_0, test_1, test_1/test_0*100))"
      ],
      "execution_count": 37,
      "outputs": [
        {
          "output_type": "stream",
          "text": [
            ">Train: 0=27368, 1=244, 0.891552, Test: 0=6842, 1=61 0.891552\n",
            ">Train: 0=27368, 1=244, 0.891552, Test: 0=6842, 1=61 0.891552\n",
            ">Train: 0=27368, 1=244, 0.891552, Test: 0=6842, 1=61 0.891552\n",
            ">Train: 0=27368, 1=244, 0.891552, Test: 0=6842, 1=61 0.891552\n",
            ">Train: 0=27368, 1=244, 0.891552, Test: 0=6842, 1=61 0.891552\n"
          ],
          "name": "stdout"
        }
      ]
    }
  ]
}